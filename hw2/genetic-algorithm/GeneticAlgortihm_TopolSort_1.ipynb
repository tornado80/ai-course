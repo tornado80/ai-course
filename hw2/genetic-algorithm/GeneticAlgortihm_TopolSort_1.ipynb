{
 "cells": [
  {
   "cell_type": "code",
   "execution_count": 1,
   "metadata": {},
   "outputs": [],
   "source": [
    "import random\n",
    "import math\n",
    "import matplotlib.pyplot as plt\n",
    "\n",
    "with open('input.txt') as f:\n",
    "    lines = f.read().splitlines()\n",
    "n = int((lines[0])) #The number of vertices\n",
    "m = len(lines) - 1 #The number of edjes\n",
    "\n",
    "hunt = [[False for _ in range (n+1)] for _ in range (n+1)] #The incidence Matrix for hunting graph\n",
    "for i in range(1, m + 1):\n",
    "    space = lines[i].find(' ')\n",
    "    a = int (lines[i][0 : space])\n",
    "    b = int (lines[i][space+1 : len(lines[i])])\n",
    "    hunt[a][b] = True #Animal a hunts animal b"
   ]
  },
  {
   "cell_type": "code",
   "execution_count": 2,
   "metadata": {},
   "outputs": [],
   "source": [
    "#The score is the number of hunting pairs that are in the correct arrangment (according to hunt's matrix)\n",
    "Goal_per = [20, 1, 2, 3, 4, 10, 19, 18, 17, 16, 15, 6, 7, 8, 9, 11, 12, 13, 14, 5]\n",
    "Max_Score = m \n",
    "\n",
    "#Objective function: returns the score of given permutation\n",
    "def get_score(per):\n",
    "    c = 0\n",
    "    for i in range(n):\n",
    "        for j in range(i, n):\n",
    "            if(hunt[per[j]][per[i]]): \n",
    "                c += 1\n",
    "    return Max_Score - c"
   ]
  },
  {
   "cell_type": "code",
   "execution_count": 3,
   "metadata": {},
   "outputs": [],
   "source": [
    "'''\n",
    "Is used for Crossover function \n",
    "It Returns the crossover permutation(child) of two given permutations (parrent1 par1, parrent2 par2) \n",
    "par1 is divided to two parts , and each part is sorted like par2's arrangement\n",
    "'''\n",
    "def get_child(par1 , par2):\n",
    "    \n",
    "    divide_point = random.choice(range(1,n))\n",
    "    parrent = []\n",
    "    for i in range(0,n):\n",
    "        parrent.append((par1[i], par2.index(par1[i])))\n",
    "    part1 = sorted(parrent[:divide_point], key = compare_sort)\n",
    "    part2 = sorted(parrent[divide_point:], key = compare_sort)\n",
    "    \n",
    "    child = []\n",
    "    for i in range(0,len(part1)):\n",
    "        child.append(part1[i][0])\n",
    "    for i in range(0,len(part2)):\n",
    "        child.append(part2[i][0])\n",
    "    return child\n",
    "\n",
    "#sorts like par2's arrangement\n",
    "def compare_sort(item):\n",
    "    return item[1]"
   ]
  },
  {
   "cell_type": "code",
   "execution_count": 4,
   "metadata": {},
   "outputs": [],
   "source": [
    "'''\n",
    "Is used For random initial generation\n",
    "It Returns k random permutations from 1 to n\n",
    "'''\n",
    "def get_rand_permutations(k):\n",
    "    pers = []\n",
    "    for i in range(k):\n",
    "        pers.append(random.sample(range(1,n+1),n))\n",
    "    return pers"
   ]
  },
  {
   "cell_type": "code",
   "execution_count": 5,
   "metadata": {},
   "outputs": [],
   "source": [
    "'''\n",
    "Is used For Mutation function\n",
    "It changes the the given permutation(per) with probability Mutation prob (pr) by one of the ways \n",
    "'''\n",
    "def little_change(per, pr, way = 3):\n",
    "    decide = random.choices([True, False],[pr, 1-pr])  \n",
    "    while decide[0]:\n",
    "        if(way == 1):\n",
    "            #Swap two items \n",
    "            sw = random.sample(range(0,n),2)\n",
    "            per[sw[0]] , per[sw[1]] = per[sw[1]] , per[sw[0]]\n",
    "        elif(way == 2):\n",
    "            #Swap two next eatch other items \n",
    "            sw = random.choice(range(1,n))\n",
    "            per[sw] , per[sw-1] = per[sw-1] , per[sw]\n",
    "        elif(way == 3):\n",
    "            #Move one item\n",
    "            swap_item = random.choice(range(1,n+1))\n",
    "            per.remove(swap_item)\n",
    "            insert_index = random.choice(range(0,n-1))\n",
    "            per.insert(insert_index,swap_item)\n",
    "        \n",
    "        decide = random.choices([True, False],[pr, 1-pr])"
   ]
  },
  {
   "cell_type": "code",
   "execution_count": 6,
   "metadata": {},
   "outputs": [],
   "source": [
    "def most_scores_selection(pers , score, k):\n",
    "    for_sort= []\n",
    "    for i in range(len(pers)):\n",
    "        for_sort.append((score[i], i))\n",
    "    for_sort.sort(reverse = True)\n",
    "\n",
    "    selected = []\n",
    "    weight = []\n",
    "    \n",
    "    for i in range(k):\n",
    "        selected.append(pers[for_sort[i][1]])\n",
    "        weight.append(for_sort[i][0] - for_sort[k-1][0]+1)\n",
    "    return (selected,weight)"
   ]
  },
  {
   "cell_type": "code",
   "execution_count": 8,
   "metadata": {},
   "outputs": [
    {
     "name": "stdout",
     "output_type": "stream",
     "text": [
      "Max score : 54 \n",
      "\n",
      "Final permutation : [20, 4, 15, 2, 1, 3, 8, 10, 7, 19, 6, 11, 12, 18, 13, 17, 9, 14, 16, 5]\n",
      "Score of final per : 53 \n",
      "\n",
      "Number of steps : Maximum( 1100 )\n"
     ]
    },
    {
     "data": {
      "image/png": "[encoded data removed]",
      "text/plain": [
       "<Figure size 432x288 with 1 Axes>"
      ]
     },
     "metadata": {
      "needs_background": "light"
     },
     "output_type": "display_data"
    }
   ],
   "source": [
    "First_Population = 100\n",
    "Nu_Population = 40\n",
    "Nu_Selection = 20\n",
    "Prob_Mutation = 0.5\n",
    "Max_Cnt = 1e3+100\n",
    "\n",
    "first_generation = get_rand_permutations(First_Population) \n",
    "new_generation = first_generation.copy()\n",
    "\n",
    "max_score_list = [] #The list of Max score for each generation , Is used for final plotting\n",
    "current_generation = [] #The list of permutation in current generation\n",
    "score = [] #The list of scores of permutation in current generation\n",
    "cnt = 0 #The counter for steps of algorithm\n",
    "\n",
    "while cnt < Max_Cnt:\n",
    "    \n",
    "    # current_generatoin and score\n",
    "    current_generation = new_generation.copy()\n",
    "    score = []\n",
    "    for i in range(len(current_generation)):\n",
    "        score.append(get_score(current_generation[i]))\n",
    "\n",
    "    max_score_list.append(max(score)) #Is used for final plotting\n",
    "    \n",
    "    #If the goal is in current generation \n",
    "    if (Max_Score in score):\n",
    "        break\n",
    "    \n",
    "    '''\n",
    "    Selection  \n",
    "    select k permutations from current generation with most scores (k = \"Nu_Selection\")\n",
    "    selected_pers : the list of k permutations with most score\n",
    "    weight : the list of scores of \"selected\" list \n",
    "    '''\n",
    "    (selected_pers, weight) = most_scores_selection(current_generation,score, Nu_Selection)\n",
    "\n",
    "    \n",
    "    '''\n",
    "    Cross over\n",
    "    generate k permutations from selected permutations with probability of weights\n",
    "    this permutations(\"new_generations\") are replacement for \"current_generation\"\n",
    "    '''\n",
    "    new_generation = []\n",
    "    for i in range(Nu_Population):\n",
    "        pars = random.choices(selected_pers, weight, k=2)\n",
    "        new_generation.append(get_child(pars[0], pars[1]))\n",
    "\n",
    "    '''\n",
    "    Mutation\n",
    "    little change for each permutation of new_generation with probability \"Prpb_Mutation\" \n",
    "    we can use one of 3 ways for this change \n",
    "    '''\n",
    "    for i in range(Nu_Population):\n",
    "        little_change(new_generation[i], Prob_Mutation, way = 3)\n",
    "    \n",
    "    cnt += 1\n",
    "\n",
    "    \n",
    "#print(\"Goal permutation :\",Goal_Per) \n",
    "print(\"Max score :\",Max_Score,\"\\n\")\n",
    "\n",
    "id_of_best = score.index(max(score)) # the id of max score permutation in \"current_generation\"\n",
    "print(\"Final permutation :\",current_generation[id_of_best])\n",
    "print(\"Score of final per :\",score[id_of_best],\"\\n\")\n",
    "\n",
    "if(cnt == Max_Cnt):\n",
    "    print(\"Number of steps : Maximum(\",cnt,\")\")\n",
    "else: \n",
    "    print(\"Number of steps :\",cnt)\n",
    "#plotting the max scores of each step\n",
    "plt.plot(max_score_list)\n",
    "plt.ylabel('Max Score')\n",
    "plt.show()"
   ]
  },
  {
   "cell_type": "code",
   "execution_count": null,
   "metadata": {},
   "outputs": [],
   "source": []
  },
  {
   "cell_type": "code",
   "execution_count": null,
   "metadata": {},
   "outputs": [],
   "source": []
  }
 ],
 "metadata": {
  "kernelspec": {
   "display_name": "Python 3 (ipykernel)",
   "language": "python",
   "name": "python3"
  },
  "language_info": {
   "codemirror_mode": {
    "name": "ipython",
    "version": 3
   },
   "file_extension": ".py",
   "mimetype": "text/x-python",
   "name": "python",
   "nbconvert_exporter": "python",
   "pygments_lexer": "ipython3",
   "version": "3.9.10"
  }
 },
 "nbformat": 4,
 "nbformat_minor": 2
}
